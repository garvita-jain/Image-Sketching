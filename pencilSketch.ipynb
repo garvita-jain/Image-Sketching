{
  "nbformat": 4,
  "nbformat_minor": 0,
  "metadata": {
    "colab": {
      "name": "pencilSketch.ipynb",
      "provenance": [],
      "authorship_tag": "ABX9TyNOP2EeaJCHlfAKSI1g4Iye",
      "include_colab_link": true
    },
    "kernelspec": {
      "name": "python3",
      "display_name": "Python 3"
    }
  },
  "cells": [
    {
      "cell_type": "markdown",
      "metadata": {
        "id": "view-in-github",
        "colab_type": "text"
      },
      "source": [
        "<a href=\"https://colab.research.google.com/github/garvita-jain/Image-Sketching/blob/master/pencilSketch.ipynb\" target=\"_parent\"><img src=\"https://colab.research.google.com/assets/colab-badge.svg\" alt=\"Open In Colab\"/></a>"
      ]
    },
    {
      "cell_type": "code",
      "metadata": {
        "id": "muRkSTlLGqI_",
        "colab_type": "code",
        "colab": {}
      },
      "source": [
        "import numpy as np\n",
        "import pandas as pd\n",
        "import cv2 as cv \n",
        "from google.colab.patches import cv2_imshow # for image display\n",
        "from skimage import io"
      ],
      "execution_count": 156,
      "outputs": []
    },
    {
      "cell_type": "code",
      "metadata": {
        "id": "t_KKry-DaS6Y",
        "colab_type": "code",
        "colab": {}
      },
      "source": [
        "# url = \"https://raw.githubusercontent.com/garvita-jain/Image-Sketching/master/images/dpadukone.jpg\" #Deepika Padukone\n",
        "# url = \"https://raw.githubusercontent.com/garvita-jain/Image-Sketching/master/images/modi.jpg\" #Narendra Modi\n",
        "# url = \"https://raw.githubusercontent.com/garvita-jain/Image-Sketching/master/images/ajaydevgn.jpg\" #Ajay Devgn\n",
        "url = \"https://raw.githubusercontent.com/garvita-jain/Image-Sketching/master/images/cat.jpg\" #Cat"
      ],
      "execution_count": 163,
      "outputs": []
    },
    {
      "cell_type": "markdown",
      "metadata": {
        "id": "m8b3KBYtKC8P",
        "colab_type": "text"
      },
      "source": [
        "**STEPS**\n",
        "1. Read image from given url\n",
        "2. Convert image to grayscale.\n",
        "3. Invert the grayscale image to get a negative."
      ]
    },
    {
      "cell_type": "code",
      "metadata": {
        "id": "PcH4w2HrXrgF",
        "colab_type": "code",
        "colab": {}
      },
      "source": [
        "image = io.imread(url) \n",
        "image_x = cv.cvtColor(image, cv.COLOR_BGR2RGB)\n",
        "# cv2_imshow(image_x)   #Use this command to view the original image\n",
        "greyscale = cv.cvtColor(image, cv.COLOR_BGR2GRAY)\n",
        "# cv2_imshow(greyscale)\n",
        "invert = 255 - greyscale\n",
        "# cv2_imshow(invert)"
      ],
      "execution_count": 164,
      "outputs": []
    },
    {
      "cell_type": "markdown",
      "metadata": {
        "id": "HNPmJhjxcayb",
        "colab_type": "text"
      },
      "source": [
        "4. Apply the Gaussian Blur to the negative from previous step."
      ]
    },
    {
      "cell_type": "code",
      "metadata": {
        "id": "X6H5wT0UHBxH",
        "colab_type": "code",
        "colab": {}
      },
      "source": [
        "blurred = cv.GaussianBlur(invert, (23,23), 0)\n",
        "# cv2_imshow(img)"
      ],
      "execution_count": 165,
      "outputs": []
    },
    {
      "cell_type": "markdown",
      "metadata": {
        "id": "nffouCA2cmeX",
        "colab_type": "text"
      },
      "source": [
        "5. Blend the grayscale image with the blurred negative."
      ]
    },
    {
      "cell_type": "code",
      "metadata": {
        "id": "AZMIV4M2RwAN",
        "colab_type": "code",
        "colab": {}
      },
      "source": [
        "def dodge(image, mask):\n",
        "  return cv.divide(image, 255-mask, scale=256)\n",
        "\n",
        "img_sketch = dodge(greyscale, blurred)\n",
        "# cv2_imshow(img_sketch)    #Use this command to view the sketch"
      ],
      "execution_count": 168,
      "outputs": []
    },
    {
      "cell_type": "code",
      "metadata": {
        "id": "Yud1zF1hVEcl",
        "colab_type": "code",
        "colab": {}
      },
      "source": [
        ""
      ],
      "execution_count": null,
      "outputs": []
    }
  ]
}